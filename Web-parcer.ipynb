{
 "cells": [
  {
   "cell_type": "code",
   "execution_count": null,
   "metadata": {},
   "outputs": [],
   "source": [
    "import time\n",
    "import requests\n",
    "from bs4 import BeautifulSoup\n",
    "\n",
    "url = 'https://telemetr.me/channels/'\n",
    "with requests.Session() as se:\n",
    "    se.Headers = {\n",
    "        \"User-Agent\": \"Mozilla/5.0 (Windows NT 10.0; Win64; x64) AppleWebKit/537.36 (KHTML, like Gecko) Chrome/85.0.4183.121 Safari/537.36\",\n",
    "        \"Accept-Encoding\": \"gzip, deflate, br\",\n",
    "        \"Accept\": \"text/html,application/xhtml+xml,application/xml;q=0.9,image/avif,image/webp,image/apng,*/*;q=0.8,application/signed-exchange;v=b3;q=0.9\",\n",
    "        \"Accept-Language\": \"en-US,en;q=0.9,ru-KZ;q=0.8,ru-RU;q=0.7,ru;q=0.6\"\n",
    "    }\n",
    "    response = se.get(url)\n",
    "\n",
    "index = BeautifulSoup(response.content, 'html.parser')\n",
    "\n",
    "max_page = int(input('Введите предполагаемое количество страниц'))\n",
    "pages = []\n",
    "input_category = input('Введите категорию. (Учитывая регистр как на сайте): ')\n",
    "for x in range(1, max_page+1):\n",
    "    time.sleep(3)\n",
    "    sort = pages.append(se.get(f'https://telemetr.me/channels/cat/{input_category}/?page='+str(x)))\n",
    "    \n",
    "for sort in pages:\n",
    "    pars = BeautifulSoup(sort.content, 'html.parser')\n",
    "    \n",
    "    for el in pars.select('.wd-300'):\n",
    "        link = el.find('a')\n",
    "        try:\n",
    "           print(link.get('href'))\n",
    "           with open(f'{input_category}.txt', '+a') as file:\n",
    "                 file.write(f'{link.get(\"href\")}\\n')\n",
    "               \n",
    "                      \n",
    "        except AttributeError as error:\n",
    "           print(f'Произошла ошибка {error}. Работа скрипта должна продолжаться.')\n",
    "           continue\n",
    "    "
   ]
  },
  {
   "cell_type": "code",
   "execution_count": 5,
   "metadata": {},
   "outputs": [],
   "source": [
    "\n"
   ]
  },
  {
   "cell_type": "code",
   "execution_count": null,
   "metadata": {},
   "outputs": [],
   "source": []
  },
  {
   "cell_type": "code",
   "execution_count": null,
   "metadata": {},
   "outputs": [],
   "source": []
  },
  {
   "cell_type": "code",
   "execution_count": null,
   "metadata": {},
   "outputs": [],
   "source": []
  },
  {
   "cell_type": "code",
   "execution_count": null,
   "metadata": {},
   "outputs": [],
   "source": []
  }
 ],
 "metadata": {
  "kernelspec": {
   "display_name": "Python 3",
   "language": "python",
   "name": "python3"
  },
  "language_info": {
   "codemirror_mode": {
    "name": "ipython",
    "version": 3
   },
   "file_extension": ".py",
   "mimetype": "text/x-python",
   "name": "python",
   "nbconvert_exporter": "python",
   "pygments_lexer": "ipython3",
   "version": "3.8.5"
  }
 },
 "nbformat": 4,
 "nbformat_minor": 4
}
